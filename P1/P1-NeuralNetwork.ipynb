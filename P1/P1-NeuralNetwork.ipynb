{
 "cells": [
  {
   "cell_type": "markdown",
   "metadata": {},
   "source": [
    "# [SWCON253] Machine Learning\n",
    "Instructor: Eunseop Shin (kairos9603@khu.ac.kr)\n",
    "\n",
    "Professor: Hui Yong Kim (hykim.v@khu.ac.kr)"
   ]
  },
  {
   "cell_type": "markdown",
   "metadata": {},
   "source": [
    "---"
   ]
  },
  {
   "cell_type": "markdown",
   "metadata": {},
   "source": [
    "# P1.A:  Pure Python만을 이용하여 Perceptron 구현 (5점)\n",
    "\n",
    "### 학습목표\n",
    "- Perceptron Python class를 직접 구현하면서 NN의 작동방법을 이해한다.\n",
    "- 머신러닝 모델의 데이터 준비, 개발, 학습, 검증, 시각화 과정을 이해하고 설명 할 수 있다.\n",
    "\n",
    "### 실습내용\n",
    "Frank Rosenblatt의 classic perceptorn binary classication(0 또는 1을 구분하는)을 구현합니다. <br>\n",
    "여러분은 \"Pure\" 혹은 \"vanila\" Python 함수만을 사용하여 구현해야합니다. 그러므로 시각화를 위한 matplotlib 이외의 패키지는 사용하지마세요.\n",
    "\n",
    "실습은 다음 순서로 진행됩니다.\n",
    "- 0) 실습에서 사용되는 패키지 import\n",
    "- 1) 주어진 데이터셋 loading\n",
    "- 2) Perceptron Model 구현 **<직접 구현>**\n",
    "- 3) Perceptron Model 학습\n",
    "- 4) Perceptron Model 검증\n",
    "- 5) Decision Boundary 시각화\n",
    "- 6) Discussion\n",
    "\n",
    "**이번 실습에서 여러분은 `2) Perceptron Model 구현` 부분의 코드를 직접 작성합니다.**\n",
    "\n",
    "앞으로 대부분의 실습도 위와 같은 순서로 진행됩니다. 이번 실습을 통해 각 부분의 코드를 이해하고 다음 실습에 참고하도록합니다.\n",
    "\n",
    "\n",
    "### 점수\n",
    "- Perceptron model 구현: 각 함수별로 1점\n",
    "\n",
    "`.ipynb 파일과 함께 .html 파일 (File -> export as -> HTML)도 함께 제출하세요. 하나만 제출할시 감점이 있습니다.`"
   ]
  },
  {
   "cell_type": "markdown",
   "metadata": {},
   "source": [
    "## 0) Imports\n",
    "**수정하지 마세요.** HW1에서는 \"pure\" python으로만 코드를 작성합니다. `matplotlib`이외의 패키지는 사용하지 않습니다."
   ]
  },
  {
   "cell_type": "code",
   "execution_count": 9,
   "metadata": {},
   "outputs": [],
   "source": [
    "import matplotlib.pyplot as plt\n",
    "%matplotlib inline"
   ]
  },
  {
   "cell_type": "markdown",
   "metadata": {},
   "source": [
    "## 1) Loading the Dataset\n",
    "**수정하지 마세요.** 코드를 실행시켜 실습코드와 같이 첨부된 dataset.csv파일을 로드합니다."
   ]
  },
  {
   "cell_type": "code",
   "execution_count": 10,
   "metadata": {},
   "outputs": [
    {
     "name": "stdout",
     "output_type": "stream",
     "text": [
      "100 100\n"
     ]
    }
   ],
   "source": [
    "# CSV 파일을 읽기\n",
    "X, y = [], []\n",
    "\n",
    "with open('./dataset.csv', 'r') as f:\n",
    "    next(f)\n",
    "    for line in f:\n",
    "        line = line.strip()\n",
    "        if line:\n",
    "            values = line.split(',')\n",
    "        else:\n",
    "            continue\n",
    "        X.append([float(i) for i in values[:2]])\n",
    "        y.append(int(values[-1]))\n",
    "        \n",
    "print(len(X), len(y))"
   ]
  },
  {
   "cell_type": "markdown",
   "metadata": {},
   "source": [
    "### Dataset Split & Visualization\n",
    "Load 된 데이터셋을 모델 학습과 검증을 위해 Trainset과 Testset으로 랜덤 샘플링하여 나누고 데이터셋이 어떤 분포로 생겼는지 시각화하여 살펴봅니다."
   ]
  },
  {
   "cell_type": "code",
   "execution_count": 11,
   "metadata": {},
   "outputs": [],
   "source": [
    "import random\n",
    "\n",
    "\n",
    "# 랜덤시드 설정\n",
    "random.seed(123)\n",
    "\n",
    "# 데이터 랜덤 셔플\n",
    "idx = list(range(len(X)))\n",
    "random.shuffle(idx)\n",
    "\n",
    "# 앞 80개 까지는 학습용으로 뒤 20개는 테스트용으로 split\n",
    "X_train = [X[i] for i in idx[:80]]\n",
    "y_train = [y[i] for i in idx[:80]]\n",
    "X_test = [X[i] for i in idx[80:]]\n",
    "y_test = [y[i] for i in idx[80:]]"
   ]
  },
  {
   "cell_type": "code",
   "execution_count": 12,
   "metadata": {},
   "outputs": [
    {
     "data": {
      "image/png": "[encoded data removed]",
      "text/plain": [
       "<Figure size 432x288 with 1 Axes>"
      ]
     },
     "metadata": {
      "needs_background": "light"
     },
     "output_type": "display_data"
    }
   ],
   "source": [
    "# 클래스 별로 데이터를 시각화 하여 분포를 살펴보기\n",
    "plt.scatter([i[0] for idx, i in enumerate(X_train) if y_train[idx] == 0], \n",
    "            [i[1] for idx, i in enumerate(X_train) if y_train[idx] == 0],\n",
    "            label='class 0', marker='o')\n",
    "\n",
    "plt.scatter([i[0] for idx, i in enumerate(X_train) if y_train[idx] == 1], \n",
    "            [i[1] for idx, i in enumerate(X_train) if y_train[idx] == 1],\n",
    "            label='class 1', marker='s')\n",
    "\n",
    "plt.title('Training set')\n",
    "plt.xlabel('feature 1')\n",
    "plt.ylabel('feature 2')\n",
    "plt.xlim([0.0, 7])\n",
    "plt.ylim([-0.8, 0.8])\n",
    "plt.legend()\n",
    "plt.show()"
   ]
  },
  {
   "cell_type": "markdown",
   "metadata": {},
   "source": [
    "## 2) Perceptron model 구현\n",
    "이 부분에서는 직접 `Perceptron model`을 구현해 봅니다.\n",
    "\n",
    "Perceptron model은 생성자, forward, backward, train, evaluation 다섯개 함수로 이루어져 있습니다.\n",
    "- `__init__` 생성자에서는 Perceptron의 weights와 bias를 초기화합니다.\n",
    "- `forward`에서는 input을 Perceptron의 가중치를 이용해서 예측을 수행합니다.\n",
    "- `backward`에서는 Perceptron의 가중치를 학습하기 위해 에러를 계산합니다.\n",
    "- `train`에서는 Perceptron을 학습하는 과정으로 `forward`와 `backward`를 차례로 반복하여 Perceptron의 가중치를 업데이트 합니다.\n",
    "- `evaluation`에서는 들어온 input data를 학습된 가중치를 이용하여 예측하고 결과를 반환합니다.\n",
    "\n",
    "아래 `# <your code>` 부분을 채워 넣어서 Perceptron class를 직접 작성하여 구현하세요.\n",
    "\n",
    "**세부 구현 사항:**\n",
    "- weights는 랜덤으로 초기화, bias는 0으로 초기화한다.\n",
    "- activation은 0.이상은 1., 이하는 0.으로 하도록한다.\n",
    "- 설명되지 않은 사항은 자유롭게 작성하고 주석으로 설명한다."
   ]
  },
  {
   "cell_type": "markdown",
   "metadata": {},
   "source": [
    "#### Perceptorn\n",
    "![Perceptron](https://www.researchgate.net/profile/Daniel-Alvarez-34/publication/315788933/figure/fig3/AS:479799241121795@1491404461957/Scheme-of-a-perceptron-A-nonlinear-activation-function-BULLET-is-applied-to-the.png)\n",
    "출처: https://www.researchgate.net/figure/Scheme-of-a-perceptron-A-nonlinear-activation-function-BULLET-is-applied-to-the_fig3_315788933"
   ]
  },
  {
   "cell_type": "code",
   "execution_count": 195,
   "metadata": {},
   "outputs": [],
   "source": [
    "class Perceptron():\n",
    "    def __init__(self, num_features):\n",
    "        self.weights = [random.random(), random.random()] # <your code> initialization\n",
    "        self.bias = 0 # <your code> initialization\n",
    "\n",
    "    def forward(self, x): \n",
    "        # <your code> compute weighted sum\n",
    "        linear = self.bias\n",
    "        \n",
    "        linear += x[0]*self.weights[0] + x[1]*self.weights[1]\n",
    "        \n",
    "        # <your code> apply activation\n",
    "        if (linear < 0):\n",
    "            prediction = 0\n",
    "        else:\n",
    "            prediction = 1\n",
    "            \n",
    "        return prediction\n",
    "        \n",
    "    def backward(self, x, y):\n",
    "        # forward 이용해서 x에 대해 forward 시키고, 그 에러를 계산하여 출력\n",
    "        # <your code> to compute the prediction error\n",
    "        # self.forward한 결과가 y[i]와 다르다면 error에 반영\n",
    "        errors = self.forward(x) - int(y)\n",
    "        return errors\n",
    "        \n",
    "    def train(self, x, y, epochs):\n",
    "        # epochs 만큼 학습\n",
    "        for e in range(epochs):\n",
    "            # 데이터 하나씩 학습\n",
    "            for i in range(len(y)):\n",
    "                # <your code> to update the weights and bias\n",
    "                # forward, backward를 이용하여\n",
    "\n",
    "                calc_errors = self.backward(x[i], y[i])\n",
    "                \n",
    "                # calc_errors가 1이면 forward(x)가 y보다 크므로 weight가 작아져야 함\n",
    "                # 0이면 건드리지 않아도 됨\n",
    "                # -1이면 weight가 작아져야 함\n",
    "                \n",
    "                if calc_errors > 0: # 계산한 결과가 정답보다 대부분 크다면\n",
    "                    self.bias -= 0.01\n",
    "                    self.weights[0] -= 0.01\n",
    "                    self.weights[1] -= 0.01                    \n",
    "                elif calc_errors < 0:\n",
    "                    self.bias += 0.01\n",
    "                    self.weights[0] += 0.01\n",
    "                    self.weights[1] += 0.01\n",
    "               \n",
    "                    \n",
    "                \n",
    "    def evaluate(self, x, y):\n",
    "        # <your code> to compute the prediction accuracy \n",
    "        \n",
    "        errors=0\n",
    "        for i in range(len(x)):\n",
    "            if self.forward(x[i]) != float(y[i]):\n",
    "                errors += 1\n",
    "        accuracy = 1 - errors/len(y)\n",
    "                \n",
    "        return accuracy"
   ]
  },
  {
   "cell_type": "markdown",
   "metadata": {},
   "source": [
    "## 3) Perceptron 학습\n",
    "\n",
    "작성한 Perceptorn을 Trainset을 이용해 5 epoch 학습하고 학습된 weight, bias를 print합니다."
   ]
  },
  {
   "cell_type": "code",
   "execution_count": 212,
   "metadata": {},
   "outputs": [
    {
     "name": "stdout",
     "output_type": "stream",
     "text": [
      "[0.2289472932800718, -0.01923833045731045]\n",
      "-0.4400000000000002\n"
     ]
    }
   ],
   "source": [
    "ppn = Perceptron(num_features=2)  # 위에서 구현한 Perceptron 모델 정의\n",
    "ppn.train(X_train, y_train, 5)    # 5 epoch 학습\n",
    "\n",
    "# 학습된 모델의 weight, bias 출력\n",
    "print(ppn.weights)\n",
    "print(ppn.bias)"
   ]
  },
  {
   "cell_type": "markdown",
   "metadata": {},
   "source": [
    "## 4) 모델 검증\n",
    "Training set과 Test set각각에서 모델의 accuracy를 계산합니다."
   ]
  },
  {
   "cell_type": "code",
   "execution_count": 213,
   "metadata": {},
   "outputs": [
    {
     "name": "stdout",
     "output_type": "stream",
     "text": [
      "Train set accuracy: 100.00%\n"
     ]
    }
   ],
   "source": [
    "# Train dataset에서 성능 검증\n",
    "train_acc = ppn.evaluate(X_train, y_train)\n",
    "print('Train set accuracy: %.2f%%' % (train_acc*100))"
   ]
  },
  {
   "cell_type": "code",
   "execution_count": 214,
   "metadata": {},
   "outputs": [
    {
     "name": "stdout",
     "output_type": "stream",
     "text": [
      "Test set accuracy: 100.00%\n"
     ]
    }
   ],
   "source": [
    "# Test dataset에서 성능 검증\n",
    "test_acc = ppn.evaluate(X_test, y_test)\n",
    "print('Test set accuracy: %.2f%%' % (test_acc*100))"
   ]
  },
  {
   "cell_type": "markdown",
   "metadata": {},
   "source": [
    "## 5) Decision Boundary\n",
    "train 데이터셋과 test 데이터셋 각각을 이용하여 2개의 scatter plot을 그리고 그 위에 학습된 가중치를 이용하여 결정경계를 시각화합니다."
   ]
  },
  {
   "cell_type": "code",
   "execution_count": 215,
   "metadata": {},
   "outputs": [
    {
     "data": {
      "image/png": "[encoded data removed]",
      "text/plain": [
       "<Figure size 432x288 with 1 Axes>"
      ]
     },
     "metadata": {
      "needs_background": "light"
     },
     "output_type": "display_data"
    },
    {
     "data": {
      "image/png": "[encoded data removed]",
      "text/plain": [
       "<Figure size 432x288 with 1 Axes>"
      ]
     },
     "metadata": {
      "needs_background": "light"
     },
     "output_type": "display_data"
    }
   ],
   "source": [
    "### Train 데이터셋에서 Decision Boundary 시각화\n",
    "# 그래프로 표현\n",
    "plt.scatter([i[0] for idx, i in enumerate(X_train) if y_train[idx] == 0], \n",
    "            [i[1] for idx, i in enumerate(X_train) if y_train[idx] == 0],\n",
    "            label='class 0', marker='o')\n",
    "plt.scatter([i[0] for idx, i in enumerate(X_train) if y_train[idx] == 1], \n",
    "            [i[1] for idx, i in enumerate(X_train) if y_train[idx] == 1],\n",
    "            label='class 1', marker='s')\n",
    "# Perscptron의 Weight와 Bias를 그래프로 표현\n",
    "plt.plot([0, 7], [-ppn.bias/ppn.weights[1], -(7*ppn.weights[0] + ppn.bias)/ppn.weights[1]])\n",
    "\n",
    "# 그래프로 표현\n",
    "plt.title('Training set')\n",
    "plt.xlabel('feature 1')\n",
    "plt.ylabel('feature 2')\n",
    "plt.xlim([0.0, 7])\n",
    "plt.ylim([-0.8, 0.8])\n",
    "plt.legend()\n",
    "plt.show()\n",
    "\n",
    "### Test 데이터셋에서 Decision Boundary 시각화\n",
    "# 그래프로 표현\n",
    "plt.scatter([i[0] for idx, i in enumerate(X_test) if y_test[idx] == 0], \n",
    "            [i[1] for idx, i in enumerate(X_test) if y_test[idx] == 0],\n",
    "            label='class 0', marker='o')\n",
    "\n",
    "plt.scatter([i[0] for idx, i in enumerate(X_test) if y_test[idx] == 1], \n",
    "            [i[1] for idx, i in enumerate(X_test) if y_test[idx] == 1],\n",
    "            label='class 1', marker='s')\n",
    "# Perscptron의 Weight와 Bias를 그래프로 표현\n",
    "plt.plot([0, 7], [-ppn.bias/ppn.weights[1], -(7*ppn.weights[0] + ppn.bias)/ppn.weights[1]])\n",
    "\n",
    "# 그래프로 표현\n",
    "plt.title('Test set')\n",
    "plt.xlabel('feature 1')\n",
    "plt.ylabel('feature 2')\n",
    "plt.xlim([0.0, 7])\n",
    "plt.ylim([-0.8, 0.8])\n",
    "plt.legend()\n",
    "plt.show()"
   ]
  },
  {
   "cell_type": "markdown",
   "metadata": {},
   "source": [
    "## 6) Discussion\n",
    "\n",
    "**1) 예시에서 사용된 activation 함수 이외의 어떤 함수가 있는지 찾아보고 설명해보세요.**"
   ]
  },
  {
   "cell_type": "markdown",
   "metadata": {},
   "source": [
    "[답변작성] 계단 함수 외에도, 로지스틱 시그모이드, 하이퍼볼릭 탄젠트 시그모이드, softplus와 ReLU가 있다. 로지스틱 시그모이드 함수는 치역이 (0, 1)인 s자형 함수로, f(x) = 1/(1+e^(-x))이다. 이는 함수값 중심이 0이 아니어서 상당히 속도가 느리며, gradient vanishing 문제가 있다. 하이퍼볼릭 탄젠트 시그모이드에서 tanh 함수의 사용을 통해 함수의 중심값을 0으로 옮겨 최적화 과정이 느린 문제를 해결하고자 했지만, 여전히 gradient vanishing 문제가 남아있다. 하이퍼볼릭 탄젠스 시그모이드 함수는 로지스틱 시그모이드 함수의 치역을 (-1, 1)로 확장시킨 것이다. softplus는 f(x)=ln(1+e^(-x)), ReLU는 f(x) = max(0, x)이다."
   ]
  },
  {
   "cell_type": "markdown",
   "metadata": {},
   "source": [
    "**2) 단층 Perceptron 으로 풀 수 없는 문제는 어떤것이 있는지 왜 그런지 설명해보세요.**"
   ]
  },
  {
   "cell_type": "markdown",
   "metadata": {},
   "source": [
    "[답변작성] XOR 문제가 있다. XOR 같은 경우 직선 하나로 영역을 나눌 수 없기 때문이다. 이를 해결하기 위해선 다층 퍼셉트론을 이용해야 한다."
   ]
  },
  {
   "cell_type": "markdown",
   "metadata": {},
   "source": [
    "**3) 구현하면서 든 질문에 대해 적어보세요. 그리고 질문에 답할 수 있다면 스스로 답해보세요.**"
   ]
  },
  {
   "cell_type": "markdown",
   "metadata": {},
   "source": [
    "[답변작성] bias과 weight[0]과 weight[1]의 학습률을 일괄적으로 정해버리는게 맞는지 모르겠다. 이렇게 해서 정답률 100%가 나온 것이 신기할 따름이다."
   ]
  },
  {
   "cell_type": "markdown",
   "metadata": {},
   "source": [
    "---"
   ]
  },
  {
   "cell_type": "markdown",
   "metadata": {},
   "source": [
    "# P1.B:  Deep Learning Framwork: Pytorh를 이용하여 MLP 구현 (5점)\n",
    "\n",
    "### 학습목표\n",
    "- pytorch를 사용하여 구현된 MLP 구조를 이해하고 수정할수 있다.\n",
    "- Fashinon-MNIST 문제를 스스로 해결하면서 딥러닝 학습과정을 이해하고 하이퍼파라미터를 튜닝을 할 수 있다.\n",
    "\n",
    "### 실습내용\n",
    "pytorch를 사용하여 구현 되어 있는 MLP를 통해 Fashion-MNIST 데이터셋을 분류하는 classfier를 학습합니다.\n",
    "\n",
    "실습은 다음 순서로 진행됩니다.\n",
    "- 1) Fashon-MNIST 데이터셋 설명\n",
    "- 2) Data loading\n",
    "- 3) Multilayer Perceptron Model\n",
    "- 4) Training\n",
    "- 5) Evaluation\n",
    "- 6) Discussion\n",
    "\n",
    "아래 코드에는 2개의 퍼셉트론은 이용한 MLP 모델이 정의 되어 있습니다.\n",
    "실습을 시작하기전에 이 노트북 파일을 읽고 모든 셀을 실행해하여 올바르게 작동하는지 확인하세요.<br>\n",
    "이후에 아키텍쳐를 마음껏 변경하여 최고의 성능이 나오도록 수정해 보세요.\n",
    "\n",
    "다음은 변경 가능한 부분입니다.\n",
    "- activation 함수 (logistic sigmoid, tanh, relu, leaky relu, ...)\n",
    "- learning rate\n",
    "- hidden layers 갯수\n",
    "- minibatch size\n",
    "\n",
    "그러나 다음 사항은 변경하지 마세요.\n",
    "- 가중치 초기화 방법\n",
    "- 랜덤시드\n",
    "- 최적화 방법, 학습 방법\n",
    "- epochs\n",
    "\n",
    "(Optional) layer를 추가하여 2개 이상의 hidden layer를 구성할 수 있습니다. <br>\n",
    "이 사항은 필수가 아닙니다. 하지만 구현하여 기준점수에 도달한 경우 **추가점수 +2점**이 있습니다.\n",
    "\n",
    "수정가능한 셀은 아래 주석으로 확실하게 하이라이트되어 표시되어 있습니다.\n",
    "\n",
    "```\n",
    "############################################################\n",
    "# 변경 가능한 셀\n",
    "############################################################\n",
    "```\n",
    "\n",
    "### 점수\n",
    "**Test set 기준**\n",
    "\n",
    "- 정확도 85% 이상 2점\n",
    "- 정확도 86% 이상 3점\n",
    "- 정확도 87% 이상 4점\n",
    "- 정확도 88% 이상 5점\n",
    "\n",
    "`.ipynb 파일과 함께 .html 파일 (File -> export as -> HTML)도 함께 제출하세요. 하나만 제출할시 감점이 있습니다.`"
   ]
  },
  {
   "cell_type": "code",
   "execution_count": 7,
   "metadata": {},
   "outputs": [],
   "source": [
    "import torch\n",
    "import os\n",
    "import pandas as pd\n",
    "import numpy as np\n",
    "import time\n",
    "import random\n",
    "from PIL import Image\n",
    "from torch.utils.data import Dataset\n",
    "from torchvision import transforms\n",
    "from torch.utils.data import DataLoader\n",
    "import torch.nn.functional as F\n",
    "import matplotlib.pyplot as plt\n",
    "%matplotlib inline"
   ]
  },
  {
   "cell_type": "code",
   "execution_count": 8,
   "metadata": {},
   "outputs": [],
   "source": [
    "# 이 부분은 절대 변경하지 마세요.\n",
    "\n",
    "RANDOM_SEED = 123\n",
    "DEVICE = torch.device('cuda:0' if torch.cuda.is_available() else 'cpu')"
   ]
  },
  {
   "cell_type": "markdown",
   "metadata": {},
   "source": [
    "## 1) Dataset 설명"
   ]
  },
  {
   "cell_type": "markdown",
   "metadata": {},
   "source": [
    "이 데이터셋은 기존의 MNIST와 비슷하게 10개의 클래스로 이루어진 데이터셋입니다. 또한 흑백의 28x28크기, 60k개의 학습용 이미지와 10k개의 테스트용 이미지로 구성 되어 있는것과 같이 MNIST와 대부분 비슷한 구조로 이뤄져 있습니다. \n",
    "\n",
    "아래는 데이터셋의 샘플 이미지 입니다.\n",
    "\n",
    "![](https://github.com/zalandoresearch/fashion-mnist/raw/master/doc/img/fashion-mnist-sprite.png)\n",
    "\n",
    "출처: https://github.com/zalandoresearch/fashion-mnist)\n",
    "\n"
   ]
  },
  {
   "cell_type": "markdown",
   "metadata": {},
   "source": [
    "데이터셋의 10개의 클래스는 다음과 같습니다.\n",
    "\n",
    "\n",
    "| Label | Description |\n",
    "| --- | --- |\n",
    "| 0 | T-shirt/top |\n",
    "| 1 | Trouser |\n",
    "| 2 | Pullover |\n",
    "| 3 | Dress |\n",
    "| 4 | Coat |\n",
    "| 5 | Sandal |\n",
    "| 6 | Shirt |\n",
    "| 7 | Sneaker |\n",
    "| 8 | Bag |\n",
    "| 9 | Ankle boot |"
   ]
  },
  {
   "cell_type": "markdown",
   "metadata": {},
   "source": [
    "## 2) Dataset Loader"
   ]
  },
  {
   "cell_type": "code",
   "execution_count": 50,
   "metadata": {},
   "outputs": [],
   "source": [
    "import torch\n",
    "from PIL import Image\n",
    "from torchvision.datasets import FashionMNIST\n",
    "from torchvision import transforms\n",
    "from torch.utils.data import DataLoader\n",
    "import pandas as pd\n",
    "\n",
    "import os"
   ]
  },
  {
   "cell_type": "code",
   "execution_count": 51,
   "metadata": {},
   "outputs": [],
   "source": [
    "# Train 데이터 로딩시 데이터 Transform\n",
    "# Random Flip, Random Crop 등을 사용하여 Data augmentation을 수행하고 이를 통해 좋은 성능을 얻을 수 있습니다.\n",
    "# 하지만, 이번 실습에서는 사용하지 않습니다.\n",
    "custom_train_transform = transforms.Compose([  \n",
    "                                             transforms.ToTensor(),\n",
    "                                             transforms.Normalize(mean=(0.5,), std=(0.5,))\n",
    "])"
   ]
  },
  {
   "cell_type": "code",
   "execution_count": 52,
   "metadata": {},
   "outputs": [],
   "source": [
    "# Test 데이터 로딩시 데이터 Transform\n",
    "# Testset의 Trainsform은 Training set 과 다르게 랜덤하게 변경되면 안됩니다.\n",
    "# 이번 실습에서는 사용하지 않습니다.\n",
    "custom_test_transform = transforms.Compose([\n",
    "                                             transforms.ToTensor(),\n",
    "                                             transforms.Normalize(mean=(0.5,), std=(0.5,))\n",
    "])"
   ]
  },
  {
   "cell_type": "code",
   "execution_count": 53,
   "metadata": {},
   "outputs": [],
   "source": [
    "############################################################\n",
    "# 변경 가능한 셀\n",
    "############################################################\n",
    "\n",
    "BATCH_SIZE = 64 # 60000을 사용하면 Full-Batch 학습"
   ]
  },
  {
   "cell_type": "code",
   "execution_count": 54,
   "metadata": {},
   "outputs": [],
   "source": [
    "train_dataset = FashionMNIST(\".\", train=True, download=True, transform=custom_train_transform)\n",
    "\n",
    "train_loader = DataLoader(dataset=train_dataset,\n",
    "                          batch_size=BATCH_SIZE,\n",
    "                          shuffle=True,\n",
    "                          drop_last=True,\n",
    "                          num_workers=2)\n",
    "\n",
    "\n",
    "test_dataset = FashionMNIST(\".\", train=False, download=True, transform=custom_test_transform)\n",
    "\n",
    "test_loader = DataLoader(dataset=test_dataset,\n",
    "                         batch_size=BATCH_SIZE,\n",
    "                         shuffle=False,\n",
    "                         num_workers=2)"
   ]
  },
  {
   "cell_type": "markdown",
   "metadata": {},
   "source": [
    "아래 셀은 데이터셋이 잘 Load 되었는지 확인하는 테스트용 코드입니다."
   ]
  },
  {
   "cell_type": "code",
   "execution_count": 55,
   "metadata": {},
   "outputs": [
    {
     "name": "stdout",
     "output_type": "stream",
     "text": [
      "Epoch: 1 | Batch index: 0 | Batch size: 64\n",
      "break minibatch for-loop\n",
      "Epoch: 2 | Batch index: 0 | Batch size: 64\n",
      "break minibatch for-loop\n"
     ]
    }
   ],
   "source": [
    "num_epochs = 2\n",
    "for epoch in range(num_epochs):\n",
    "\n",
    "    for batch_idx, (x, y) in enumerate(train_loader):\n",
    "        \n",
    "        print('Epoch:', epoch+1, end='')\n",
    "        print(' | Batch index:', batch_idx, end='')\n",
    "        print(' | Batch size:', y.size()[0])\n",
    "        \n",
    "        x = x.to(DEVICE)\n",
    "        y = y.to(DEVICE)\n",
    "        \n",
    "        print('break minibatch for-loop')\n",
    "        break"
   ]
  },
  {
   "cell_type": "markdown",
   "metadata": {},
   "source": [
    "## 3) Multilayer Perceptron Model\n",
    "\n",
    "아래 셀은 MLP모델을 정의하는 부분입니다. 이 과제에서 메인 부분입니다."
   ]
  },
  {
   "cell_type": "code",
   "execution_count": 56,
   "metadata": {},
   "outputs": [],
   "source": [
    "############################################################\n",
    "# 변경 가능한 셀\n",
    "############################################################\n",
    "\n",
    "class MLP(torch.nn.Module):\n",
    "\n",
    "    def __init__(self, num_features, num_hidden_1, num_classes):\n",
    "        super(MLP, self).__init__()\n",
    "        \n",
    "        self.num_classes = num_classes\n",
    "        \n",
    "        ### (optional)레이어 추가 가능\n",
    "        self.linear_1 = torch.nn.Linear(num_features, num_hidden_1)\n",
    "        self.linear_out = torch.nn.Linear(num_hidden_1, num_classes)\n",
    "        \n",
    "    def forward(self, x):\n",
    "        \n",
    "        ### activation 함수 변경 가능\n",
    "        ### (optional)레이어간의 연결 추가, 변경 가능\n",
    "        out = self.linear_1(x)\n",
    "        out = torch.sigmoid(out)\n",
    "        logits = self.linear_out(out)\n",
    "        probas = torch.sigmoid(logits)\n",
    "        return logits, probas\n",
    "\n",
    "    \n",
    "#################################\n",
    "### Model 초기화\n",
    "#################################\n",
    "\n",
    "# random seed는 무작위 가중치 초기화가 항상 같도록 해줍니다.\n",
    "# 초기화된 가중치에 따라 같은 네트워크도 서로 다른 성능을 낼 수 있어서 \n",
    "# 실제 사용시에는 좋은 성능을 얻기 위해 여러가지 무작위 가중치를 시도해 볼 수 있습니다.\n",
    "# 그러나 이 과제에서는 변경하지 않습니다.\n",
    "random.seed(RANDOM_SEED)\n",
    "torch.manual_seed(RANDOM_SEED)\n",
    "\n",
    "### 모델의 hidden_layer갯수(num_hidden_1`를 변경하고싶거나, \n",
    "### (optional)레이어를 추가하였다면,\n",
    "### 이부분을 알맞게 수정하세요.\n",
    "model = MLP(num_features=28*28,\n",
    "            num_hidden_1=10,\n",
    "            num_classes=10)\n",
    "\n",
    "model = model.to(DEVICE)"
   ]
  },
  {
   "cell_type": "markdown",
   "metadata": {},
   "source": [
    "## 4) Training"
   ]
  },
  {
   "cell_type": "code",
   "execution_count": 57,
   "metadata": {},
   "outputs": [],
   "source": [
    "############################################################\n",
    "# 변경 가능한 셀\n",
    "############################################################\n",
    "\n",
    "### Optimizer는 가중치를 업데이트하는 방법을 바꾸어 더 빠르게 좋은 성능을 낼 수 있도록합니다.\n",
    "### 이 과제에서는 optimizer를 변경하지 않습니다. \n",
    "### 그러나 Learning Rate(lr)는 변경이 가능합니다.\n",
    "optimizer = torch.optim.SGD(model.parameters(), lr=0.01)\n",
    "############################################################"
   ]
  },
  {
   "cell_type": "code",
   "execution_count": 1,
   "metadata": {},
   "outputs": [],
   "source": [
    "NUM_EPOCHS = 20"
   ]
  },
  {
   "cell_type": "code",
   "execution_count": null,
   "metadata": {},
   "outputs": [],
   "source": [
    "def compute_accuracy_and_loss(model, data_loader, device):\n",
    "    correct_pred, num_examples = 0, 0\n",
    "    cross_entropy = 0.\n",
    "    for i, (features, targets) in enumerate(data_loader):\n",
    "            \n",
    "        features = features.view(-1, 28*28).to(device)\n",
    "        targets = targets.to(device)\n",
    "\n",
    "        logits, probas = model(features)\n",
    "        cross_entropy += F.cross_entropy(logits, targets).item()\n",
    "        _, predicted_labels = torch.max(probas, 1)\n",
    "        num_examples += targets.size(0)\n",
    "        correct_pred += (predicted_labels == targets).sum()\n",
    "    return correct_pred.float()/num_examples * 100, cross_entropy/num_examples\n",
    "    \n",
    "\n",
    "start_time = time.time()\n",
    "train_acc_lst, test_acc_lst = [], []\n",
    "train_loss_lst, test_loss_lst = [], []\n",
    "\n",
    "for epoch in range(NUM_EPOCHS):\n",
    "    \n",
    "    model.train()\n",
    "    \n",
    "    for batch_idx, (features, targets) in enumerate(train_loader):\n",
    "    \n",
    "        ### PREPARE MINIBATCH\n",
    "        features = features.view(-1, 28*28).to(DEVICE)\n",
    "        targets = targets.to(DEVICE)\n",
    "            \n",
    "        ### FORWARD AND BACK PROP\n",
    "        logits, probas = model(features)\n",
    "        cost = F.cross_entropy(logits, targets)\n",
    "        optimizer.zero_grad()\n",
    "        \n",
    "        cost.backward()\n",
    "        \n",
    "        ### UPDATE MODEL PARAMETERS\n",
    "        optimizer.step()\n",
    "        \n",
    "        ### LOGGING\n",
    "        if not batch_idx % 40:\n",
    "            print (f'Epoch: {epoch+1:03d}/{NUM_EPOCHS:03d} | '\n",
    "                   f'Batch {batch_idx:03d}/{len(train_loader):03d} |' \n",
    "                   f' Cost: {cost:.4f}')\n",
    "\n",
    "    # 매 Epoch마다 evaluation을 진행합니다. \n",
    "    # Epoch마다 Loss를 기록하여 학습과정을 살펴보고 Underfitting, Overfitting 여부를 확인합니다.\n",
    "    model.eval()\n",
    "    with torch.set_grad_enabled(False): # Gradient 계산이 안되도록\n",
    "        train_acc, train_loss = compute_accuracy_and_loss(model, train_loader, device=DEVICE) # train acc, loss 계산\n",
    "        test_acc, test_loss = compute_accuracy_and_loss(model, test_loader, device=DEVICE)    # test acc, loss 계산\n",
    "        \n",
    "        # list에 train, test의  acc, loss 추가\n",
    "        train_acc_lst.append(train_acc)\n",
    "        test_acc_lst.append(test_acc)\n",
    "        train_loss_lst.append(train_loss)\n",
    "        test_loss_lst.append(test_loss)\n",
    "        \n",
    "        # 로깅\n",
    "        print(f'Epoch: {epoch+1:03d}/{NUM_EPOCHS:03d} Train Acc.: {train_acc:.2f}%'\n",
    "              f' | Test Acc.: {test_acc:.2f}%')\n",
    "    \n",
    "    # 1 epoch 학습 소요시간\n",
    "    elapsed = (time.time() - start_time)/60\n",
    "    print(f'Time elapsed: {elapsed:.2f} min')\n",
    "\n",
    "# 총 학습 소요시간\n",
    "elapsed = (time.time() - start_time)/60\n",
    "print(f'Total Training Time: {elapsed:.2f} min')"
   ]
  },
  {
   "cell_type": "markdown",
   "metadata": {},
   "source": [
    "## 5) Evaluation\n",
    "\n",
    "테스트 데이터와 학습 데이터의 Loss변화를 확인합니다."
   ]
  },
  {
   "cell_type": "code",
   "execution_count": null,
   "metadata": {},
   "outputs": [],
   "source": [
    "plt.plot(range(1, NUM_EPOCHS+1), train_loss_lst, label='Training loss')\n",
    "plt.plot(range(1, NUM_EPOCHS+1), test_loss_lst, label='Test loss')\n",
    "plt.legend(loc='upper right')\n",
    "plt.ylabel('Cross entropy')\n",
    "plt.xlabel('Epoch')\n",
    "plt.show()"
   ]
  },
  {
   "cell_type": "code",
   "execution_count": null,
   "metadata": {},
   "outputs": [],
   "source": [
    "plt.plot(range(1, NUM_EPOCHS+1), train_acc_lst, label='Training accuracy')\n",
    "plt.plot(range(1, NUM_EPOCHS+1), test_acc_lst, label='Test accuracy')\n",
    "plt.legend(loc='upper left')\n",
    "plt.ylabel('Cross entropy')\n",
    "plt.xlabel('Epoch')\n",
    "plt.show()"
   ]
  },
  {
   "cell_type": "code",
   "execution_count": null,
   "metadata": {},
   "outputs": [],
   "source": [
    "model.eval()\n",
    "with torch.set_grad_enabled(False): # save memory during inference\n",
    "    test_acc, test_loss = compute_accuracy_and_loss(model, test_loader, DEVICE)\n",
    "    print(f'Test accuracy: {test_acc:.2f}%')"
   ]
  },
  {
   "cell_type": "markdown",
   "metadata": {},
   "source": [
    "## 6) Discussion"
   ]
  },
  {
   "cell_type": "markdown",
   "metadata": {},
   "source": [
    "**1) 학습, 테스트 정확도는 얼마인가요? (위 숫자를 복사하세요.)**"
   ]
  },
  {
   "cell_type": "markdown",
   "metadata": {},
   "source": [
    "- Training:  ???%\n",
    "- Test ???%"
   ]
  },
  {
   "cell_type": "markdown",
   "metadata": {},
   "source": [
    "**2) overfitting을 경험했나요? 만약 그랬다면 왜 그랬을지 적어보고, overfitting을 방지하기위한 간단한 방법은 무엇일까요?**"
   ]
  },
  {
   "cell_type": "markdown",
   "metadata": {},
   "source": [
    "[제안하는 방법 적기]"
   ]
  },
  {
   "cell_type": "markdown",
   "metadata": {},
   "source": [
    "예를 들면, \n",
    "\n",
    "- batch size를 256으로 변경\n",
    "- 두개의 hidden layers의 activation을 relu로 변경\n",
    "- learning rate를 0.2로 변경"
   ]
  },
  {
   "cell_type": "markdown",
   "metadata": {},
   "source": [
    "**3) 만약 테스트셋의 정확도가 85%에서 88%로 3% 향상되었다고 하면 얼마나 많은 이미지를 더 맞추게 된것일까요?**"
   ]
  },
  {
   "cell_type": "markdown",
   "metadata": {},
   "source": [
    "[간단한 계산식 적기]"
   ]
  },
  {
   "cell_type": "markdown",
   "metadata": {},
   "source": [
    "**4) 구현하면서 든 질문에 대해 적어보세요. 그리고 질문에 답할 수 있다면 스스로 답해보세요.**"
   ]
  },
  {
   "cell_type": "markdown",
   "metadata": {},
   "source": [
    "[답변작성]"
   ]
  }
 ],
 "metadata": {
  "kernelspec": {
   "display_name": "Python 3",
   "language": "python",
   "name": "python3"
  },
  "language_info": {
   "codemirror_mode": {
    "name": "ipython",
    "version": 3
   },
   "file_extension": ".py",
   "mimetype": "text/x-python",
   "name": "python",
   "nbconvert_exporter": "python",
   "pygments_lexer": "ipython3",
   "version": "3.8.5"
  }
 },
 "nbformat": 4,
 "nbformat_minor": 4
}
